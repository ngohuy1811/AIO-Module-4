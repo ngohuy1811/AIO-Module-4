{
  "nbformat": 4,
  "nbformat_minor": 0,
  "metadata": {
    "colab": {
      "provenance": [],
      "authorship_tag": "ABX9TyOJGorcuDhCTtWHJ1zEryjr",
      "include_colab_link": true
    },
    "kernelspec": {
      "name": "python3",
      "display_name": "Python 3"
    },
    "language_info": {
      "name": "python"
    }
  },
  "cells": [
    {
      "cell_type": "markdown",
      "metadata": {
        "id": "view-in-github",
        "colab_type": "text"
      },
      "source": [
        "<a href=\"https://colab.research.google.com/github/ngohuy1811/AIO-Module-4/blob/main/Linear_%26_non_linear.ipynb\" target=\"_parent\"><img src=\"https://colab.research.google.com/assets/colab-badge.svg\" alt=\"Open In Colab\"/></a>"
      ]
    },
    {
      "cell_type": "code",
      "source": [
        "import numpy as np"
      ],
      "metadata": {
        "id": "POoxma-Al_hY"
      },
      "execution_count": 1,
      "outputs": []
    },
    {
      "cell_type": "code",
      "execution_count": 2,
      "metadata": {
        "id": "_DdaE38JjHR3"
      },
      "outputs": [],
      "source": [
        "#1b\n",
        "#2b\n",
        "#3d\n",
        "#4b\n",
        "def r2score ( y_pred , y ):\n",
        "    rss = np . sum (( y_pred - y ) ** 2)\n",
        "    tss = np . sum (( y - y . mean () ) ** 2)\n",
        "    r2 = 1 - ( rss / tss )\n",
        "    return r2"
      ]
    },
    {
      "cell_type": "code",
      "source": [
        "y_pred = np.array([1,2,3,4,5])\n",
        "y = np.array([1,2,3,4,5])\n",
        "print(r2score (y_pred,y))\n",
        "\n",
        "y_pred2 = np.array([1,2,3,4,5])\n",
        "y2 = np.array([3,5,5,2,4])\n",
        "print(r2score (y_pred2,y2))"
      ],
      "metadata": {
        "colab": {
          "base_uri": "https://localhost:8080/"
        },
        "id": "8FqdRB6pl8pw",
        "outputId": "933d26f5-18e9-4b0d-8250-3202cddef7a0"
      },
      "execution_count": 3,
      "outputs": [
        {
          "output_type": "stream",
          "name": "stdout",
          "text": [
            "1.0\n",
            "-2.235294117647059\n"
          ]
        }
      ]
    },
    {
      "cell_type": "code",
      "source": [
        "#5b\n",
        "#6b\n"
      ],
      "metadata": {
        "id": "t-4wHFCZmt8e"
      },
      "execution_count": null,
      "outputs": []
    },
    {
      "cell_type": "code",
      "source": [
        "import numpy as np\n",
        "#7a\n",
        "def create_polynomial_features(X , degree =2):\n",
        "    X_new = X\n",
        "    for d in range(2, degree+1):\n",
        "        X_new = np.c_[ X_new, np.power(X, d) ]\n",
        "    return X_new\n",
        "\n",
        "X = np.array ([[1],[2],[3]])\n",
        "print(create_polynomial_features (X, degree =2))\n"
      ],
      "metadata": {
        "colab": {
          "base_uri": "https://localhost:8080/"
        },
        "id": "BAYMc52EqorY",
        "outputId": "332654b3-9c7a-43c3-8663-19cf03fcf619"
      },
      "execution_count": 4,
      "outputs": [
        {
          "output_type": "stream",
          "name": "stdout",
          "text": [
            "[[1 1]\n",
            " [2 4]\n",
            " [3 9]]\n"
          ]
        }
      ]
    },
    {
      "cell_type": "code",
      "source": [
        "#8a\n",
        "def create_polynomial_features2(X, degree=2):\n",
        "    X_mem = []\n",
        "    for X_sub in X.T:\n",
        "        X_new = X_sub\n",
        "        for d in range(2, degree+1):\n",
        "            X_new = np.c_[X_new, np.power(X_sub, d)]\n",
        "        X_mem.extend(X_new.T)\n",
        "    return np.c_[X_mem].T\n",
        "\n"
      ],
      "metadata": {
        "id": "oJAMLK_4ynXN"
      },
      "execution_count": 5,
      "outputs": []
    },
    {
      "cell_type": "code",
      "source": [
        "X = np.array([[1 , 2] , [2 , 3] , [3 , 4]])\n",
        "print(create_polynomial_features2(X, degree=2))\n"
      ],
      "metadata": {
        "colab": {
          "base_uri": "https://localhost:8080/"
        },
        "id": "UjMBuE_G8bHv",
        "outputId": "f0cc439d-43e9-41aa-b48f-d01aa089d3d9"
      },
      "execution_count": 6,
      "outputs": [
        {
          "output_type": "stream",
          "name": "stdout",
          "text": [
            "[[ 1  1  2  4]\n",
            " [ 2  4  3  9]\n",
            " [ 3  9  4 16]]\n"
          ]
        }
      ]
    },
    {
      "cell_type": "code",
      "source": [
        "!gdown 1A8kK0IEsT3w8htzU18ihFr5UV-euhquC"
      ],
      "metadata": {
        "colab": {
          "base_uri": "https://localhost:8080/"
        },
        "id": "6AyzjVtZBbib",
        "outputId": "702b456e-88fe-4b46-843c-37141ba42a10"
      },
      "execution_count": 21,
      "outputs": [
        {
          "output_type": "stream",
          "name": "stdout",
          "text": [
            "Downloading...\n",
            "From: https://drive.google.com/uc?id=1A8kK0IEsT3w8htzU18ihFr5UV-euhquC\n",
            "To: /content/SalesPrediction.csv\n",
            "\r  0% 0.00/206k [00:00<?, ?B/s]\r100% 206k/206k [00:00<00:00, 62.9MB/s]\n"
          ]
        }
      ]
    },
    {
      "cell_type": "code",
      "source": [
        "import pandas as pd\n",
        "import numpy as np\n",
        "\n",
        "\n",
        "df = pd.read_csv('/content/SalesPrediction.csv')\n",
        "df = pd.get_dummies(df)"
      ],
      "metadata": {
        "id": "J4C892-QI4Do"
      },
      "execution_count": 22,
      "outputs": []
    },
    {
      "cell_type": "code",
      "source": [
        "# Handle Null values\n",
        "df = df.fillna(df.mean())"
      ],
      "metadata": {
        "id": "i0QdPucS68Gq"
      },
      "execution_count": 23,
      "outputs": []
    },
    {
      "cell_type": "code",
      "source": [
        "# Get features\n",
        "X = df[['TV','Radio','Social Media','Influencer_Macro','Influencer_Mega','Influencer_Micro','Influencer_Nano']]\n",
        "y = df['Sales']"
      ],
      "metadata": {
        "id": "NTDbaoKq7Jb2"
      },
      "execution_count": 24,
      "outputs": []
    },
    {
      "cell_type": "code",
      "source": [
        "# Train Test Split\n",
        "from sklearn.model_selection import train_test_split\n",
        "X_train, X_test, y_train, y_test = train_test_split(X, y, test_size=0.33, random_state=0)"
      ],
      "metadata": {
        "id": "_De4Q6Sw7cw1"
      },
      "execution_count": 25,
      "outputs": []
    },
    {
      "cell_type": "code",
      "source": [
        "#10a\n",
        "from sklearn.preprocessing import StandardScaler\n",
        "\n",
        "scaler = StandardScaler()\n",
        "X_train_processed = scaler.fit_transform(X_train)\n",
        "X_test_processed = scaler.transform(X_test)\n",
        "scaler.mean_ [0]"
      ],
      "metadata": {
        "colab": {
          "base_uri": "https://localhost:8080/"
        },
        "id": "8YOEYsW_7mE8",
        "outputId": "1ecd7e8e-ddd3-46e0-ba69-219f8d74ad49"
      },
      "execution_count": 26,
      "outputs": [
        {
          "output_type": "execute_result",
          "data": {
            "text/plain": [
              "54.173577723283785"
            ]
          },
          "metadata": {},
          "execution_count": 26
        }
      ]
    },
    {
      "cell_type": "code",
      "source": [
        "from sklearn.preprocessing import PolynomialFeatures\n",
        "\n",
        "poly_features = PolynomialFeatures(degree=2)\n",
        "\n",
        "X_train_poly = poly_features.fit_transform(X_train_processed)\n",
        "X_test_poly = poly_features.transform(X_test_processed)"
      ],
      "metadata": {
        "id": "U1KH4S70702k"
      },
      "execution_count": 27,
      "outputs": []
    },
    {
      "cell_type": "code",
      "source": [
        "from sklearn.linear_model import LinearRegression\n",
        "from sklearn.metrics import r2_score\n",
        "\n",
        "poly_model = LinearRegression()\n",
        "poly_model.fit(X_train_poly , y_train)\n",
        "\n",
        "preds = poly_model.predict(X_test_poly)\n",
        "r2_score (y_test,preds)"
      ],
      "metadata": {
        "colab": {
          "base_uri": "https://localhost:8080/"
        },
        "id": "KIlHQihw-k4V",
        "outputId": "5e94cef9-4ef9-46ab-bf78-ea31ab9fef96"
      },
      "execution_count": 28,
      "outputs": [
        {
          "output_type": "execute_result",
          "data": {
            "text/plain": [
              "0.9951796158547627"
            ]
          },
          "metadata": {},
          "execution_count": 28
        }
      ]
    }
  ]
}